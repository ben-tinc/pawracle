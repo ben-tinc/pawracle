{
 "cells": [
  {
   "cell_type": "markdown",
   "id": "95bffe78-deca-4125-9b2f-509814729fe8",
   "metadata": {},
   "source": [
    "# Pawracle Data Sheet\n",
    "\n",
    "Results and statistics around \"**Pawracle** Euro '24 Edition\". Have fun! "
   ]
  },
  {
   "cell_type": "code",
   "execution_count": 35,
   "id": "532751b0-2b34-47c7-ac9b-426fa08cbf1c",
   "metadata": {
    "jupyter": {
     "source_hidden": true
    }
   },
   "outputs": [],
   "source": [
    "# Essential libraries\n",
    "import pandas as pd\n",
    "import seaborn as sns\n",
    "import matplotlib.pyplot as plt"
   ]
  },
  {
   "cell_type": "code",
   "execution_count": 36,
   "id": "a6e61297-eb4c-496c-94fe-ca5ad4349adf",
   "metadata": {},
   "outputs": [],
   "source": [
    "# The dataset with all the dogs' bets\n",
    "data = pd.read_csv('pawracle-data.csv', index_col=0)"
   ]
  },
  {
   "cell_type": "code",
   "execution_count": 37,
   "id": "6374cd34-312b-48a2-8b5b-dc284c8a8333",
   "metadata": {
    "jupyter": {
     "source_hidden": true
    }
   },
   "outputs": [
    {
     "data": {
      "text/html": [
       "<div>\n",
       "<style scoped>\n",
       "    .dataframe tbody tr th:only-of-type {\n",
       "        vertical-align: middle;\n",
       "    }\n",
       "\n",
       "    .dataframe tbody tr th {\n",
       "        vertical-align: top;\n",
       "    }\n",
       "\n",
       "    .dataframe thead th {\n",
       "        text-align: right;\n",
       "    }\n",
       "</style>\n",
       "<table border=\"1\" class=\"dataframe\">\n",
       "  <thead>\n",
       "    <tr style=\"text-align: right;\">\n",
       "      <th></th>\n",
       "      <th>date</th>\n",
       "      <th>home</th>\n",
       "      <th>away</th>\n",
       "      <th>result</th>\n",
       "      <th>lokiTipp</th>\n",
       "      <th>lokiSide</th>\n",
       "      <th>siggiTipp</th>\n",
       "      <th>siggiSide</th>\n",
       "      <th>spencerTipp</th>\n",
       "      <th>spencerSide</th>\n",
       "      <th>darkoTipp</th>\n",
       "      <th>darkoSide</th>\n",
       "      <th>pointsForWin</th>\n",
       "      <th>numOfPossibleTipps</th>\n",
       "    </tr>\n",
       "    <tr>\n",
       "      <th>match</th>\n",
       "      <th></th>\n",
       "      <th></th>\n",
       "      <th></th>\n",
       "      <th></th>\n",
       "      <th></th>\n",
       "      <th></th>\n",
       "      <th></th>\n",
       "      <th></th>\n",
       "      <th></th>\n",
       "      <th></th>\n",
       "      <th></th>\n",
       "      <th></th>\n",
       "      <th></th>\n",
       "      <th></th>\n",
       "    </tr>\n",
       "  </thead>\n",
       "  <tbody>\n",
       "    <tr>\n",
       "      <th>match1</th>\n",
       "      <td>14.06.24</td>\n",
       "      <td>Germany</td>\n",
       "      <td>Scotland</td>\n",
       "      <td>H</td>\n",
       "      <td>U</td>\n",
       "      <td>M</td>\n",
       "      <td>U</td>\n",
       "      <td>M</td>\n",
       "      <td>U</td>\n",
       "      <td>M</td>\n",
       "      <td>H</td>\n",
       "      <td>L</td>\n",
       "      <td>1</td>\n",
       "      <td>3</td>\n",
       "    </tr>\n",
       "    <tr>\n",
       "      <th>match2</th>\n",
       "      <td>15.06.24</td>\n",
       "      <td>Italy</td>\n",
       "      <td>Albania</td>\n",
       "      <td>H</td>\n",
       "      <td>A</td>\n",
       "      <td>L</td>\n",
       "      <td>H</td>\n",
       "      <td>R</td>\n",
       "      <td>H</td>\n",
       "      <td>L</td>\n",
       "      <td>A</td>\n",
       "      <td>L</td>\n",
       "      <td>1</td>\n",
       "      <td>3</td>\n",
       "    </tr>\n",
       "    <tr>\n",
       "      <th>match3</th>\n",
       "      <td>16.06.24</td>\n",
       "      <td>Serbia</td>\n",
       "      <td>England</td>\n",
       "      <td>A</td>\n",
       "      <td>U</td>\n",
       "      <td>M</td>\n",
       "      <td>A</td>\n",
       "      <td>M</td>\n",
       "      <td>A</td>\n",
       "      <td>M</td>\n",
       "      <td>U</td>\n",
       "      <td>M</td>\n",
       "      <td>1</td>\n",
       "      <td>3</td>\n",
       "    </tr>\n",
       "    <tr>\n",
       "      <th>match4</th>\n",
       "      <td>17.06.24</td>\n",
       "      <td>Austria</td>\n",
       "      <td>France</td>\n",
       "      <td>A</td>\n",
       "      <td>U</td>\n",
       "      <td>M</td>\n",
       "      <td>U</td>\n",
       "      <td>R</td>\n",
       "      <td>A</td>\n",
       "      <td>R</td>\n",
       "      <td>A</td>\n",
       "      <td>L</td>\n",
       "      <td>1</td>\n",
       "      <td>3</td>\n",
       "    </tr>\n",
       "    <tr>\n",
       "      <th>match5</th>\n",
       "      <td>18.06.24</td>\n",
       "      <td>Portugal</td>\n",
       "      <td>Czech Republic</td>\n",
       "      <td>H</td>\n",
       "      <td>A</td>\n",
       "      <td>L</td>\n",
       "      <td>H</td>\n",
       "      <td>R</td>\n",
       "      <td>H</td>\n",
       "      <td>R</td>\n",
       "      <td>A</td>\n",
       "      <td>R</td>\n",
       "      <td>1</td>\n",
       "      <td>3</td>\n",
       "    </tr>\n",
       "  </tbody>\n",
       "</table>\n",
       "</div>"
      ],
      "text/plain": [
       "            date      home            away result lokiTipp lokiSide siggiTipp  \\\n",
       "match                                                                           \n",
       "match1  14.06.24   Germany        Scotland      H        U        M         U   \n",
       "match2  15.06.24     Italy         Albania      H        A        L         H   \n",
       "match3  16.06.24    Serbia         England      A        U        M         A   \n",
       "match4  17.06.24   Austria          France      A        U        M         U   \n",
       "match5  18.06.24  Portugal  Czech Republic      H        A        L         H   \n",
       "\n",
       "       siggiSide spencerTipp spencerSide darkoTipp darkoSide  pointsForWin  \\\n",
       "match                                                                        \n",
       "match1         M           U           M         H         L             1   \n",
       "match2         R           H           L         A         L             1   \n",
       "match3         M           A           M         U         M             1   \n",
       "match4         R           A           R         A         L             1   \n",
       "match5         R           H           R         A         R             1   \n",
       "\n",
       "        numOfPossibleTipps  \n",
       "match                       \n",
       "match1                   3  \n",
       "match2                   3  \n",
       "match3                   3  \n",
       "match4                   3  \n",
       "match5                   3  "
      ]
     },
     "execution_count": 37,
     "metadata": {},
     "output_type": "execute_result"
    }
   ],
   "source": [
    "# This is how the data looks like:\n",
    "data.head()"
   ]
  },
  {
   "cell_type": "markdown",
   "id": "ca6cfa2d-efc5-46c0-bd93-133230cb8757",
   "metadata": {},
   "source": [
    "## Results\n",
    "\n",
    "First things first: which dog has scored the most points? Note that matches from the group phase only give a single point, while matches during the knockout phase give two!"
   ]
  },
  {
   "cell_type": "code",
   "execution_count": 38,
   "id": "b2744ff7-530b-4731-84ad-625d342230c4",
   "metadata": {},
   "outputs": [
    {
     "data": {
      "text/html": [
       "<div>\n",
       "<style scoped>\n",
       "    .dataframe tbody tr th:only-of-type {\n",
       "        vertical-align: middle;\n",
       "    }\n",
       "\n",
       "    .dataframe tbody tr th {\n",
       "        vertical-align: top;\n",
       "    }\n",
       "\n",
       "    .dataframe thead th {\n",
       "        text-align: right;\n",
       "    }\n",
       "</style>\n",
       "<table border=\"1\" class=\"dataframe\">\n",
       "  <thead>\n",
       "    <tr style=\"text-align: right;\">\n",
       "      <th></th>\n",
       "      <th>Points</th>\n",
       "    </tr>\n",
       "  </thead>\n",
       "  <tbody>\n",
       "    <tr>\n",
       "      <th>Loki</th>\n",
       "      <td>8</td>\n",
       "    </tr>\n",
       "    <tr>\n",
       "      <th>Siggi</th>\n",
       "      <td>9</td>\n",
       "    </tr>\n",
       "    <tr>\n",
       "      <th>Spencer</th>\n",
       "      <td>12</td>\n",
       "    </tr>\n",
       "    <tr>\n",
       "      <th>Darko</th>\n",
       "      <td>13</td>\n",
       "    </tr>\n",
       "  </tbody>\n",
       "</table>\n",
       "</div>"
      ],
      "text/plain": [
       "         Points\n",
       "Loki          8\n",
       "Siggi         9\n",
       "Spencer      12\n",
       "Darko        13"
      ]
     },
     "execution_count": 38,
     "metadata": {},
     "output_type": "execute_result"
    }
   ],
   "source": [
    "data['lokiPts'] = data['pointsForWin'].where(data['lokiTipp'] == data['result'], other=0)\n",
    "data['siggiPts'] = data['pointsForWin'].where(data['siggiTipp'] == data['result'], other=0)\n",
    "data['spencerPts'] = data['pointsForWin'].where(data['spencerTipp'] == data['result'], other=0)\n",
    "data['darkoPts'] = data['pointsForWin'].where(data['darkoTipp'] == data['result'], other=0)\n",
    "points = pd.DataFrame(index=['Loki', 'Siggi', 'Spencer', 'Darko'])\n",
    "points['Points'] = [data['lokiPts'].sum(), data['siggiPts'].sum(), data['spencerPts'].sum(), data['darkoPts'].sum()]\n",
    "points"
   ]
  },
  {
   "cell_type": "code",
   "execution_count": 39,
   "id": "a4b6b233-cb0c-47cf-8fb3-4f99a0ab00e6",
   "metadata": {},
   "outputs": [
    {
     "data": {
      "image/png": "[encoded data removed]",
      "text/plain": [
       "<Figure size 640x480 with 1 Axes>"
      ]
     },
     "metadata": {},
     "output_type": "display_data"
    }
   ],
   "source": [
    "palette = sns.color_palette('tab10')\n",
    "dog_palette = [palette[3], palette[0], palette[2], palette[1]]\n",
    "sns.set_palette(dog_palette)\n",
    "ax = sns.barplot(data=points, x=points.index, y=points['Points'], hue=points.index)\n",
    "ax.set_xlabel('Doggo')\n",
    "# render a horizontal line to mark expected score\n",
    "expected_scores = (data['pointsForWin'] / data['numOfPossibleTipps']).cumsum()\n",
    "expected_now = expected_scores.iloc[(data['result'][data['result'] != 'x']).count() - 1]\n",
    "ax.axhline(y=expected_now , xmin=0, xmax=1, color=\"black\", linestyle=\"dotted\")\n",
    "plt.show(ax)"
   ]
  },
  {
   "cell_type": "code",
   "execution_count": null,
   "id": "3fe90e58-a951-45f3-aba2-2ceefb04cb4c",
   "metadata": {},
   "outputs": [],
   "source": []
  },
  {
   "cell_type": "markdown",
   "id": "e5b91a14-0c0e-45e8-8975-2f0bd6ed21e9",
   "metadata": {},
   "source": [
    "Note: the dotted line marks the expected value of the score."
   ]
  },
  {
   "cell_type": "markdown",
   "id": "9e6a999a-b8c2-43a0-99c0-c5da0f80e250",
   "metadata": {},
   "source": [
    "## Choosing a Side\n",
    "\n",
    "The doggos have notable preferences when it comes to choosing a particular side: Loki and Darko tend to the left, Spencer to the middle and Siggi to the right."
   ]
  },
  {
   "cell_type": "code",
   "execution_count": 40,
   "id": "2b1e846d-b508-4104-9a70-c8d7825c9385",
   "metadata": {},
   "outputs": [
    {
     "data": {
      "text/html": [
       "<div>\n",
       "<style scoped>\n",
       "    .dataframe tbody tr th:only-of-type {\n",
       "        vertical-align: middle;\n",
       "    }\n",
       "\n",
       "    .dataframe tbody tr th {\n",
       "        vertical-align: top;\n",
       "    }\n",
       "\n",
       "    .dataframe thead th {\n",
       "        text-align: right;\n",
       "    }\n",
       "</style>\n",
       "<table border=\"1\" class=\"dataframe\">\n",
       "  <thead>\n",
       "    <tr style=\"text-align: right;\">\n",
       "      <th></th>\n",
       "      <th>Loki</th>\n",
       "      <th>Siggi</th>\n",
       "      <th>Spencer</th>\n",
       "      <th>Darko</th>\n",
       "      <th>Total</th>\n",
       "    </tr>\n",
       "  </thead>\n",
       "  <tbody>\n",
       "    <tr>\n",
       "      <th>Left</th>\n",
       "      <td>8</td>\n",
       "      <td>2</td>\n",
       "      <td>2</td>\n",
       "      <td>8</td>\n",
       "      <td>20</td>\n",
       "    </tr>\n",
       "    <tr>\n",
       "      <th>Middle</th>\n",
       "      <td>5</td>\n",
       "      <td>4</td>\n",
       "      <td>7</td>\n",
       "      <td>4</td>\n",
       "      <td>20</td>\n",
       "    </tr>\n",
       "    <tr>\n",
       "      <th>Right</th>\n",
       "      <td>0</td>\n",
       "      <td>7</td>\n",
       "      <td>4</td>\n",
       "      <td>1</td>\n",
       "      <td>12</td>\n",
       "    </tr>\n",
       "  </tbody>\n",
       "</table>\n",
       "</div>"
      ],
      "text/plain": [
       "        Loki  Siggi  Spencer  Darko  Total\n",
       "Left       8      2        2      8     20\n",
       "Middle     5      4        7      4     20\n",
       "Right      0      7        4      1     12"
      ]
     },
     "execution_count": 40,
     "metadata": {},
     "output_type": "execute_result"
    }
   ],
   "source": [
    "sides = pd.DataFrame(index=['Left', 'Middle', 'Right'])\n",
    "# Only during the groupPhase have there been three choices:\n",
    "onlyGroup = data[data['numOfPossibleTipps'] == 3]\n",
    "sides['Loki'] = [(onlyGroup['lokiSide'] == 'L').sum(), (onlyGroup['lokiSide'] == 'M').sum(), (onlyGroup['lokiSide'] == 'R').sum()]\n",
    "sides['Siggi'] = [(onlyGroup['siggiSide'] == 'L').sum(), (onlyGroup['siggiSide'] == 'M').sum(), (onlyGroup['siggiSide'] == 'R').sum()]\n",
    "sides['Spencer'] = [(onlyGroup['spencerSide'] == 'L').sum(), (onlyGroup['spencerSide'] == 'M').sum(), (onlyGroup['spencerSide'] == 'R').sum()]\n",
    "sides['Darko'] = [(onlyGroup['darkoSide'] == 'L').sum(), (onlyGroup['darkoSide'] == 'M').sum(), (onlyGroup['darkoSide'] == 'R').sum()]\n",
    "sides['Total'] = sides['Loki'] + sides['Siggi'] + sides['Spencer'] + sides['Darko']\n",
    "sides"
   ]
  },
  {
   "cell_type": "code",
   "execution_count": 41,
   "id": "2f6b186f-3b70-4fe6-8305-75d37f9745e6",
   "metadata": {},
   "outputs": [
    {
     "data": {
      "image/png": "[encoded data removed]",
      "text/plain": [
       "<Figure size 640x480 with 1 Axes>"
      ]
     },
     "metadata": {},
     "output_type": "display_data"
    }
   ],
   "source": [
    "vis = sides.drop(['Total'], axis=1).plot(kind='bar', stacked=True)\n",
    "plt.show(vis)"
   ]
  },
  {
   "cell_type": "markdown",
   "id": "f9e6720c-ae12-419d-9575-09c32644b19a",
   "metadata": {},
   "source": [
    "## Scoring by Side"
   ]
  },
  {
   "cell_type": "code",
   "execution_count": 42,
   "id": "f8e58d6b-c8cd-4b47-bbd0-5a4decb9c9bf",
   "metadata": {},
   "outputs": [
    {
     "data": {
      "text/html": [
       "<div>\n",
       "<style scoped>\n",
       "    .dataframe tbody tr th:only-of-type {\n",
       "        vertical-align: middle;\n",
       "    }\n",
       "\n",
       "    .dataframe tbody tr th {\n",
       "        vertical-align: top;\n",
       "    }\n",
       "\n",
       "    .dataframe thead th {\n",
       "        text-align: right;\n",
       "    }\n",
       "</style>\n",
       "<table border=\"1\" class=\"dataframe\">\n",
       "  <thead>\n",
       "    <tr style=\"text-align: right;\">\n",
       "      <th></th>\n",
       "      <th>Total</th>\n",
       "      <th>LokiPts</th>\n",
       "      <th>SiggiPts</th>\n",
       "      <th>SpencerPts</th>\n",
       "      <th>DarkoPts</th>\n",
       "      <th>TotalPts</th>\n",
       "      <th>hitChance</th>\n",
       "    </tr>\n",
       "  </thead>\n",
       "  <tbody>\n",
       "    <tr>\n",
       "      <th>Left</th>\n",
       "      <td>20</td>\n",
       "      <td>1</td>\n",
       "      <td>1</td>\n",
       "      <td>1</td>\n",
       "      <td>4</td>\n",
       "      <td>7</td>\n",
       "      <td>0.350000</td>\n",
       "    </tr>\n",
       "    <tr>\n",
       "      <th>Middle</th>\n",
       "      <td>20</td>\n",
       "      <td>1</td>\n",
       "      <td>3</td>\n",
       "      <td>3</td>\n",
       "      <td>3</td>\n",
       "      <td>10</td>\n",
       "      <td>0.500000</td>\n",
       "    </tr>\n",
       "    <tr>\n",
       "      <th>Right</th>\n",
       "      <td>12</td>\n",
       "      <td>0</td>\n",
       "      <td>3</td>\n",
       "      <td>2</td>\n",
       "      <td>0</td>\n",
       "      <td>5</td>\n",
       "      <td>0.416667</td>\n",
       "    </tr>\n",
       "  </tbody>\n",
       "</table>\n",
       "</div>"
      ],
      "text/plain": [
       "        Total  LokiPts  SiggiPts  SpencerPts  DarkoPts  TotalPts  hitChance\n",
       "Left       20        1         1           1         4         7   0.350000\n",
       "Middle     20        1         3           3         3        10   0.500000\n",
       "Right      12        0         3           2         0         5   0.416667"
      ]
     },
     "execution_count": 42,
     "metadata": {},
     "output_type": "execute_result"
    }
   ],
   "source": [
    "sides['LokiPts'] = [onlyGroup['lokiPts'].where(onlyGroup['lokiSide']==res, other=0).sum() for res in ['L', 'M', 'R']]\n",
    "sides['SiggiPts'] = [onlyGroup['siggiPts'].where(onlyGroup['siggiSide']==res, other=0).sum() for res in ['L', 'M', 'R']]\n",
    "sides['SpencerPts'] = [onlyGroup['spencerPts'].where(onlyGroup['spencerSide']==res, other=0).sum() for res in ['L', 'M', 'R']]\n",
    "sides['DarkoPts'] = [onlyGroup['darkoPts'].where(onlyGroup['darkoSide']==res, other=0).sum() for res in ['L', 'M', 'R']]\n",
    "sides['TotalPts'] = sides['LokiPts'] + sides['SiggiPts'] + sides['SpencerPts'] + sides['DarkoPts']\n",
    "sides['hitChance'] = sides['TotalPts'] / sides['Total']\n",
    "sides.drop(['Loki', 'Siggi', 'Spencer', 'Darko'], axis=1)"
   ]
  },
  {
   "cell_type": "markdown",
   "id": "9b569c46-c3dc-4ede-ba60-40469b87133b",
   "metadata": {},
   "source": [
    "Individually, each doggo scores mainly on their preferred side, which is not surprising. Interestingly, the different sides score relatively evenly when taken all the doggos into account. The left side scores the worst, mostly due to Loki picking the side very often, albeit with limited results. But it still narrowly beats the 1/3 which one would expect. Right side and middle score even better, a testament to the generally very good results of the doggos during group stage. "
   ]
  },
  {
   "cell_type": "markdown",
   "id": "1ae27b0b-a793-4cec-a6eb-6fc3aa23700f",
   "metadata": {},
   "source": [
    "**Individual scoring by Side**"
   ]
  },
  {
   "cell_type": "code",
   "execution_count": 43,
   "id": "a6e9afae-0fd8-4950-aeef-d4237b2c88f6",
   "metadata": {},
   "outputs": [
    {
     "data": {
      "text/html": [
       "<div>\n",
       "<style scoped>\n",
       "    .dataframe tbody tr th:only-of-type {\n",
       "        vertical-align: middle;\n",
       "    }\n",
       "\n",
       "    .dataframe tbody tr th {\n",
       "        vertical-align: top;\n",
       "    }\n",
       "\n",
       "    .dataframe thead th {\n",
       "        text-align: right;\n",
       "    }\n",
       "</style>\n",
       "<table border=\"1\" class=\"dataframe\">\n",
       "  <thead>\n",
       "    <tr style=\"text-align: right;\">\n",
       "      <th></th>\n",
       "      <th>Loki</th>\n",
       "      <th>Siggi</th>\n",
       "      <th>Spencer</th>\n",
       "      <th>Darko</th>\n",
       "      <th>LokiPts</th>\n",
       "      <th>SiggiPts</th>\n",
       "      <th>SpencerPts</th>\n",
       "      <th>DarkoPts</th>\n",
       "    </tr>\n",
       "  </thead>\n",
       "  <tbody>\n",
       "    <tr>\n",
       "      <th>Left</th>\n",
       "      <td>8</td>\n",
       "      <td>2</td>\n",
       "      <td>2</td>\n",
       "      <td>8</td>\n",
       "      <td>1</td>\n",
       "      <td>1</td>\n",
       "      <td>1</td>\n",
       "      <td>4</td>\n",
       "    </tr>\n",
       "    <tr>\n",
       "      <th>Middle</th>\n",
       "      <td>5</td>\n",
       "      <td>4</td>\n",
       "      <td>7</td>\n",
       "      <td>4</td>\n",
       "      <td>1</td>\n",
       "      <td>3</td>\n",
       "      <td>3</td>\n",
       "      <td>3</td>\n",
       "    </tr>\n",
       "    <tr>\n",
       "      <th>Right</th>\n",
       "      <td>0</td>\n",
       "      <td>7</td>\n",
       "      <td>4</td>\n",
       "      <td>1</td>\n",
       "      <td>0</td>\n",
       "      <td>3</td>\n",
       "      <td>2</td>\n",
       "      <td>0</td>\n",
       "    </tr>\n",
       "  </tbody>\n",
       "</table>\n",
       "</div>"
      ],
      "text/plain": [
       "        Loki  Siggi  Spencer  Darko  LokiPts  SiggiPts  SpencerPts  DarkoPts\n",
       "Left       8      2        2      8        1         1           1         4\n",
       "Middle     5      4        7      4        1         3           3         3\n",
       "Right      0      7        4      1        0         3           2         0"
      ]
     },
     "execution_count": 43,
     "metadata": {},
     "output_type": "execute_result"
    }
   ],
   "source": [
    "sides['hcLoki'] = sides['LokiPts'] / sides['Loki']\n",
    "sides['hcSiggi'] = sides['SiggiPts'] / sides['Siggi']\n",
    "sides['hcSpencer'] = sides['SpencerPts'] / sides['Spencer']\n",
    "sides['hcDarko'] = sides['DarkoPts'] / sides['Darko']\n",
    "sides.drop(['TotalPts', 'Total', 'hitChance', 'hcLoki', 'hcSiggi', 'hcSpencer', 'hcDarko'], axis=1)"
   ]
  },
  {
   "cell_type": "code",
   "execution_count": 44,
   "id": "028f4c93-553a-408f-945a-685feee31428",
   "metadata": {},
   "outputs": [
    {
     "data": {
      "text/html": [
       "<div>\n",
       "<style scoped>\n",
       "    .dataframe tbody tr th:only-of-type {\n",
       "        vertical-align: middle;\n",
       "    }\n",
       "\n",
       "    .dataframe tbody tr th {\n",
       "        vertical-align: top;\n",
       "    }\n",
       "\n",
       "    .dataframe thead th {\n",
       "        text-align: right;\n",
       "    }\n",
       "</style>\n",
       "<table border=\"1\" class=\"dataframe\">\n",
       "  <thead>\n",
       "    <tr style=\"text-align: right;\">\n",
       "      <th></th>\n",
       "      <th>hitChance</th>\n",
       "      <th>hcLoki</th>\n",
       "      <th>hcSiggi</th>\n",
       "      <th>hcSpencer</th>\n",
       "      <th>hcDarko</th>\n",
       "    </tr>\n",
       "  </thead>\n",
       "  <tbody>\n",
       "    <tr>\n",
       "      <th>Left</th>\n",
       "      <td>0.350000</td>\n",
       "      <td>0.125</td>\n",
       "      <td>0.500000</td>\n",
       "      <td>0.500000</td>\n",
       "      <td>0.50</td>\n",
       "    </tr>\n",
       "    <tr>\n",
       "      <th>Middle</th>\n",
       "      <td>0.500000</td>\n",
       "      <td>0.200</td>\n",
       "      <td>0.750000</td>\n",
       "      <td>0.428571</td>\n",
       "      <td>0.75</td>\n",
       "    </tr>\n",
       "    <tr>\n",
       "      <th>Right</th>\n",
       "      <td>0.416667</td>\n",
       "      <td>NaN</td>\n",
       "      <td>0.428571</td>\n",
       "      <td>0.500000</td>\n",
       "      <td>0.00</td>\n",
       "    </tr>\n",
       "  </tbody>\n",
       "</table>\n",
       "</div>"
      ],
      "text/plain": [
       "        hitChance  hcLoki   hcSiggi  hcSpencer  hcDarko\n",
       "Left     0.350000   0.125  0.500000   0.500000     0.50\n",
       "Middle   0.500000   0.200  0.750000   0.428571     0.75\n",
       "Right    0.416667     NaN  0.428571   0.500000     0.00"
      ]
     },
     "execution_count": 44,
     "metadata": {},
     "output_type": "execute_result"
    }
   ],
   "source": [
    "sides.drop(['Loki', 'Siggi', 'Spencer', 'LokiPts', 'SiggiPts', 'SpencerPts', 'DarkoPts', 'Darko', 'TotalPts', 'Total',], axis=1)"
   ]
  },
  {
   "cell_type": "markdown",
   "id": "bc1afd2a-a1d1-402a-8a4c-2429aee2c5e7",
   "metadata": {},
   "source": [
    "Looking at the hit chance for each side for each dog separately, we can see that the dogs have scored in very different ways. Spencer has scored very evenly across the three positions, while Siggi and Darko have found most of their success in the middle. This could be one factor as to why they are so close in the rankings, despite their wildly different side preferences. "
   ]
  },
  {
   "cell_type": "markdown",
   "id": "5ed5a3a4-0b80-4fc5-b382-4fce1f10223e",
   "metadata": {},
   "source": [
    "## What if?? Alternate Universes (group stage only)\n",
    "\n",
    "The different sides have not had a fixed meaning – not for any doggo individually, and certainly not across all competitors. It is therefore interesting to have a look a alternate universes, where \"picking left side\" would always mean the same thing! There are six possible permutations of such a strict universe:\n",
    "\n",
    "| Left | Middle | Right |\n",
    "| :-: | :-: | :-: |\n",
    "| H | U | A |\n",
    "| H | A | U |\n",
    "| U | H | A |\n",
    "| U | A | H |\n",
    "| A | H | U |\n",
    "| A | U | H |"
   ]
  },
  {
   "cell_type": "code",
   "execution_count": 61,
   "id": "0191e559-8711-433d-9eea-e670d67ed975",
   "metadata": {},
   "outputs": [],
   "source": [
    "# Create a new universe, based on the premise that a certain side\n",
    "# always maps to a certain meaning with regards to the chosen result.\n",
    "def universe_with(original_results, mapping={'L': 'H', 'M': 'U', 'R': 'A'}):\n",
    "    # Make sure to only include rows where three results are possible\n",
    "    universe = original_results.copy()\n",
    "    universe = universe[universe['numOfPossibleTipps'] == 3]\n",
    "    # Replace tipp with alternate one\n",
    "    universe['lokiTipp'] = universe['lokiSide'].apply(lambda s: mapping[s])\n",
    "    universe['siggiTipp'] = universe['siggiSide'].apply(lambda s: mapping[s])\n",
    "    universe['spencerTipp'] = universe['spencerSide'].apply(lambda s: mapping[s])\n",
    "    universe['darkoTipp'] = universe['darkoSide'].apply(lambda s: mapping[s])\n",
    "    # Calculate new points\n",
    "    universe['lokiPts'] = universe['pointsForWin'].where(universe['lokiTipp'] == universe['result'], other=0)\n",
    "    universe['siggiPts'] = universe['pointsForWin'].where(universe['siggiTipp'] == universe['result'], other=0)\n",
    "    universe['spencerPts'] = universe['pointsForWin'].where(universe['spencerTipp'] == universe['result'], other=0)\n",
    "    universe['darkoPts'] = universe['pointsForWin'].where(universe['darkoTipp'] == universe['result'], other=0)\n",
    "    return universe"
   ]
  },
  {
   "cell_type": "markdown",
   "id": "523fefa6-8366-4e7b-a56e-385a5b952299",
   "metadata": {},
   "source": [
    "#### HUA Universe"
   ]
  },
  {
   "cell_type": "code",
   "execution_count": 62,
   "id": "344acc0f-d327-4b4d-bb06-249be2ca64fe",
   "metadata": {},
   "outputs": [],
   "source": [
    "alt_1 = universe_with(onlyGroup, mapping={'L': 'H', 'M': 'U','R': 'A'})\n",
    "# Build comparison table\n",
    "points_comp = pd.DataFrame(index=['Loki', 'Siggi', 'Spencer', 'Darko'])\n",
    "points_comp['ActualPts'] = [onlyGroup[col].sum() for col in ['lokiPts', 'siggiPts', 'spencerPts', 'darkoPts']]\n",
    "points_comp['HUA'] = [alt_1[col].sum() for col in ['lokiPts', 'siggiPts', 'spencerPts', 'darkoPts']]"
   ]
  },
  {
   "cell_type": "markdown",
   "id": "cad73bff-1aef-4b89-8812-c1f578189954",
   "metadata": {},
   "source": [
    "#### HAU Universe"
   ]
  },
  {
   "cell_type": "code",
   "execution_count": 63,
   "id": "1ae2e011-871d-4ca3-a218-dae153f8c6e5",
   "metadata": {},
   "outputs": [],
   "source": [
    "alt_2 = universe_with(onlyGroup, mapping={'L': 'H', 'M': 'A','R': 'U' })\n",
    "points_comp['HAU'] = [alt_2[col].sum() for col in ['lokiPts', 'siggiPts', 'spencerPts', 'darkoPts']]"
   ]
  },
  {
   "cell_type": "markdown",
   "id": "0e87c1b6-c8ee-400c-895c-6d4a4819ea23",
   "metadata": {},
   "source": [
    "#### UHA Universe"
   ]
  },
  {
   "cell_type": "code",
   "execution_count": 64,
   "id": "3ec93ead-8154-4ad0-96dc-d7e846390177",
   "metadata": {},
   "outputs": [],
   "source": [
    "alt_3 = universe_with(onlyGroup, mapping={'L': 'U', 'M': 'H', 'R': 'A'})\n",
    "points_comp['UHA'] = [alt_3[col].sum() for col in ['lokiPts', 'siggiPts', 'spencerPts', 'darkoPts']]"
   ]
  },
  {
   "cell_type": "markdown",
   "id": "76101597-8b84-4166-9073-bb68c4c3c581",
   "metadata": {},
   "source": [
    "#### UAH Universe"
   ]
  },
  {
   "cell_type": "code",
   "execution_count": 65,
   "id": "c93556f3-8330-4ebb-b102-cf3ca9957e75",
   "metadata": {},
   "outputs": [],
   "source": [
    "alt_4 = universe_with(onlyGroup, mapping={'L': 'U', 'M': 'A', 'R': 'H'})\n",
    "points_comp['UAH'] = [alt_4[col].sum() for col in ['lokiPts', 'siggiPts', 'spencerPts', 'darkoPts']]"
   ]
  },
  {
   "cell_type": "markdown",
   "id": "1bebd35d-04cb-42bd-b0e5-e3f5bf5ed967",
   "metadata": {},
   "source": [
    "#### AHU Universe"
   ]
  },
  {
   "cell_type": "code",
   "execution_count": 66,
   "id": "7559601b-0950-43eb-a594-4a71c0aab93b",
   "metadata": {},
   "outputs": [],
   "source": [
    "alt_5 = universe_with(onlyGroup, mapping={'L': 'A', 'M': 'H', 'R': 'U'})\n",
    "points_comp['AHU'] = [alt_5[col].sum() for col in ['lokiPts', 'siggiPts', 'spencerPts', 'darkoPts']]"
   ]
  },
  {
   "cell_type": "markdown",
   "id": "021e0ae8-464e-4452-913b-2b1c3a6aefc6",
   "metadata": {},
   "source": [
    "#### AUH Universe"
   ]
  },
  {
   "cell_type": "code",
   "execution_count": 67,
   "id": "b97d7b18-e694-42c8-b132-76f21ce37ece",
   "metadata": {},
   "outputs": [],
   "source": [
    "alt_6 = universe_with(onlyGroup, mapping={'L': 'A', 'M': 'U', 'R': 'H'})\n",
    "points_comp['AUH'] = [alt_6[col].sum() for col in ['lokiPts', 'siggiPts', 'spencerPts', 'darkoPts']]"
   ]
  },
  {
   "cell_type": "markdown",
   "id": "a331bb13-0000-4054-9454-9c69b504e6eb",
   "metadata": {},
   "source": [
    "**Points scored in the alternate universes:**"
   ]
  },
  {
   "cell_type": "code",
   "execution_count": 68,
   "id": "407efa2f-ea85-4afb-bb1f-a64c4cd28c52",
   "metadata": {},
   "outputs": [
    {
     "data": {
      "text/html": [
       "<div>\n",
       "<style scoped>\n",
       "    .dataframe tbody tr th:only-of-type {\n",
       "        vertical-align: middle;\n",
       "    }\n",
       "\n",
       "    .dataframe tbody tr th {\n",
       "        vertical-align: top;\n",
       "    }\n",
       "\n",
       "    .dataframe thead th {\n",
       "        text-align: right;\n",
       "    }\n",
       "</style>\n",
       "<table border=\"1\" class=\"dataframe\">\n",
       "  <thead>\n",
       "    <tr style=\"text-align: right;\">\n",
       "      <th></th>\n",
       "      <th>ActualPts</th>\n",
       "      <th>HUA</th>\n",
       "      <th>HAU</th>\n",
       "      <th>UHA</th>\n",
       "      <th>UAH</th>\n",
       "      <th>AHU</th>\n",
       "      <th>AUH</th>\n",
       "    </tr>\n",
       "  </thead>\n",
       "  <tbody>\n",
       "    <tr>\n",
       "      <th>Loki</th>\n",
       "      <td>2</td>\n",
       "      <td>4</td>\n",
       "      <td>5</td>\n",
       "      <td>6</td>\n",
       "      <td>6</td>\n",
       "      <td>3</td>\n",
       "      <td>2</td>\n",
       "    </tr>\n",
       "    <tr>\n",
       "      <th>Siggi</th>\n",
       "      <td>7</td>\n",
       "      <td>3</td>\n",
       "      <td>6</td>\n",
       "      <td>3</td>\n",
       "      <td>6</td>\n",
       "      <td>4</td>\n",
       "      <td>4</td>\n",
       "    </tr>\n",
       "    <tr>\n",
       "      <th>Spencer</th>\n",
       "      <td>6</td>\n",
       "      <td>7</td>\n",
       "      <td>2</td>\n",
       "      <td>5</td>\n",
       "      <td>4</td>\n",
       "      <td>2</td>\n",
       "      <td>6</td>\n",
       "    </tr>\n",
       "    <tr>\n",
       "      <th>Darko</th>\n",
       "      <td>7</td>\n",
       "      <td>7</td>\n",
       "      <td>5</td>\n",
       "      <td>2</td>\n",
       "      <td>4</td>\n",
       "      <td>2</td>\n",
       "      <td>6</td>\n",
       "    </tr>\n",
       "  </tbody>\n",
       "</table>\n",
       "</div>"
      ],
      "text/plain": [
       "         ActualPts  HUA  HAU  UHA  UAH  AHU  AUH\n",
       "Loki             2    4    5    6    6    3    2\n",
       "Siggi            7    3    6    3    6    4    4\n",
       "Spencer          6    7    2    5    4    2    6\n",
       "Darko            7    7    5    2    4    2    6"
      ]
     },
     "execution_count": 68,
     "metadata": {},
     "output_type": "execute_result"
    }
   ],
   "source": [
    "points_comp"
   ]
  },
  {
   "cell_type": "markdown",
   "id": "b2995bb4-1381-4b60-b2c0-0b4b4a0f5229",
   "metadata": {},
   "source": [
    "To interpret these results, we have to remind ourselves that in our 13 group stage matches H and U results were more common than A."
   ]
  },
  {
   "cell_type": "code",
   "execution_count": 69,
   "id": "d47c3a41-7de3-4351-9f54-75de4853852b",
   "metadata": {},
   "outputs": [
    {
     "data": {
      "image/png": "[encoded data removed]",
      "text/plain": [
       "<Figure size 640x480 with 1 Axes>"
      ]
     },
     "metadata": {},
     "output_type": "display_data"
    }
   ],
   "source": [
    "# only consider group stage\n",
    "results = data[data['pointsForWin'] == 1]\n",
    "ax = results['result'].value_counts().plot(kind='bar', rot=0, color=['red', 'green', 'blue'])\n",
    "plt.show(ax)"
   ]
  },
  {
   "cell_type": "markdown",
   "id": "9ce3177c-21de-478e-ae82-76e030423236",
   "metadata": {},
   "source": [
    "So, if we combine all the \"strict universes\" each dog gets 26 points. How \"fitting\" any given universe is depends on the extend to which it matches the common results (i.e. H + U) to the dog's respective preferences (e.g. 'R' for Siggi). From this perspective, it is not surprising that Siggi scores well in the HAU and UAH universes, because in these the H and U results are located on the right. Conversely, Darko scores very well in the two universes where the U result is in the middle, especially in the one where H is on his preferred left side."
   ]
  },
  {
   "cell_type": "markdown",
   "id": "70a4058b-e9b4-4f34-9042-c81022fea1c0",
   "metadata": {},
   "source": [
    "**Quick aside: Darkos Setting**\n",
    "\n",
    "Incidentally, the strict universe AUH (so, with A instead of H on the left) is _very_ close to our actual setting. There are only three differences, and two of them have lead to Darko scoring! Seems suspicious, but the first difference is the very first match, where no pattern and no preference had been established, yet. And the other one is match7 between Spain and Italy, and one can argue that at that point in time there was no clear favourite for that match. The third difference was match5 between Portugal and Czechia, where Darko incorrectly bet on the away team."
   ]
  },
  {
   "cell_type": "code",
   "execution_count": 54,
   "id": "669d0064-6092-4b6e-bf57-7035597f19b1",
   "metadata": {},
   "outputs": [
    {
     "name": "stdout",
     "output_type": "stream",
     "text": [
      "Comparison between AUH universe and the real world for Darko:\n"
     ]
    },
    {
     "data": {
      "text/html": [
       "<div>\n",
       "<style scoped>\n",
       "    .dataframe tbody tr th:only-of-type {\n",
       "        vertical-align: middle;\n",
       "    }\n",
       "\n",
       "    .dataframe tbody tr th {\n",
       "        vertical-align: top;\n",
       "    }\n",
       "\n",
       "    .dataframe thead th {\n",
       "        text-align: right;\n",
       "    }\n",
       "</style>\n",
       "<table border=\"1\" class=\"dataframe\">\n",
       "  <thead>\n",
       "    <tr style=\"text-align: right;\">\n",
       "      <th></th>\n",
       "      <th>real</th>\n",
       "      <th>AUH</th>\n",
       "    </tr>\n",
       "    <tr>\n",
       "      <th>match</th>\n",
       "      <th></th>\n",
       "      <th></th>\n",
       "    </tr>\n",
       "  </thead>\n",
       "  <tbody>\n",
       "    <tr>\n",
       "      <th>match1</th>\n",
       "      <td>H</td>\n",
       "      <td>A</td>\n",
       "    </tr>\n",
       "    <tr>\n",
       "      <th>match2</th>\n",
       "      <td>A</td>\n",
       "      <td>A</td>\n",
       "    </tr>\n",
       "    <tr>\n",
       "      <th>match3</th>\n",
       "      <td>U</td>\n",
       "      <td>U</td>\n",
       "    </tr>\n",
       "    <tr>\n",
       "      <th>match4</th>\n",
       "      <td>A</td>\n",
       "      <td>A</td>\n",
       "    </tr>\n",
       "    <tr>\n",
       "      <th>match5</th>\n",
       "      <td>A</td>\n",
       "      <td>H</td>\n",
       "    </tr>\n",
       "    <tr>\n",
       "      <th>match6</th>\n",
       "      <td>U</td>\n",
       "      <td>U</td>\n",
       "    </tr>\n",
       "    <tr>\n",
       "      <th>match7</th>\n",
       "      <td>H</td>\n",
       "      <td>A</td>\n",
       "    </tr>\n",
       "    <tr>\n",
       "      <th>match8</th>\n",
       "      <td>U</td>\n",
       "      <td>U</td>\n",
       "    </tr>\n",
       "    <tr>\n",
       "      <th>match9</th>\n",
       "      <td>A</td>\n",
       "      <td>A</td>\n",
       "    </tr>\n",
       "    <tr>\n",
       "      <th>match10</th>\n",
       "      <td>U</td>\n",
       "      <td>U</td>\n",
       "    </tr>\n",
       "    <tr>\n",
       "      <th>match11</th>\n",
       "      <td>A</td>\n",
       "      <td>A</td>\n",
       "    </tr>\n",
       "    <tr>\n",
       "      <th>match12</th>\n",
       "      <td>A</td>\n",
       "      <td>A</td>\n",
       "    </tr>\n",
       "    <tr>\n",
       "      <th>match13</th>\n",
       "      <td>A</td>\n",
       "      <td>A</td>\n",
       "    </tr>\n",
       "    <tr>\n",
       "      <th>match14</th>\n",
       "      <td>H</td>\n",
       "      <td>NaN</td>\n",
       "    </tr>\n",
       "    <tr>\n",
       "      <th>match15</th>\n",
       "      <td>H</td>\n",
       "      <td>NaN</td>\n",
       "    </tr>\n",
       "    <tr>\n",
       "      <th>match16</th>\n",
       "      <td>A</td>\n",
       "      <td>NaN</td>\n",
       "    </tr>\n",
       "    <tr>\n",
       "      <th>match17</th>\n",
       "      <td>H</td>\n",
       "      <td>NaN</td>\n",
       "    </tr>\n",
       "  </tbody>\n",
       "</table>\n",
       "</div>"
      ],
      "text/plain": [
       "        real  AUH\n",
       "match            \n",
       "match1     H    A\n",
       "match2     A    A\n",
       "match3     U    U\n",
       "match4     A    A\n",
       "match5     A    H\n",
       "match6     U    U\n",
       "match7     H    A\n",
       "match8     U    U\n",
       "match9     A    A\n",
       "match10    U    U\n",
       "match11    A    A\n",
       "match12    A    A\n",
       "match13    A    A\n",
       "match14    H  NaN\n",
       "match15    H  NaN\n",
       "match16    A  NaN\n",
       "match17    H  NaN"
      ]
     },
     "execution_count": 54,
     "metadata": {},
     "output_type": "execute_result"
    }
   ],
   "source": [
    "darkoComp = pd.DataFrame()\n",
    "darkoComp['real'] = data[data['darkoTipp']!='o']['darkoTipp']\n",
    "darkoComp['AUH'] = alt_6['darkoTipp']\n",
    "print('Comparison between AUH universe and the real world for Darko:')\n",
    "darkoComp"
   ]
  },
  {
   "cell_type": "code",
   "execution_count": null,
   "id": "038cabbe-ab33-4063-97c3-ade1b5568e41",
   "metadata": {},
   "outputs": [],
   "source": []
  }
 ],
 "metadata": {
  "kernelspec": {
   "display_name": "Python 3 (ipykernel)",
   "language": "python",
   "name": "python3"
  },
  "language_info": {
   "codemirror_mode": {
    "name": "ipython",
    "version": 3
   },
   "file_extension": ".py",
   "mimetype": "text/x-python",
   "name": "python",
   "nbconvert_exporter": "python",
   "pygments_lexer": "ipython3",
   "version": "3.10.12"
  }
 },
 "nbformat": 4,
 "nbformat_minor": 5
}
